{
 "cells": [
  {
   "cell_type": "markdown",
   "metadata": {},
   "source": [
    "# Building a Multimodal Search Engine\n",
    "\n",
    "Learn how to build an image search engine using CLIP."
   ]
  },
  {
   "cell_type": "code",
   "execution_count": null,
   "metadata": {},
   "outputs": [],
   "source": [
    "# Setup\n",
    "import sys\n",
    "sys.path.append('../src')\n",
    "\n",
    "from multimodal_search import MultimodalSearchEngine\n",
    "from utils import download_samples\n",
    "from config import IMAGES_DIR\n",
    "import matplotlib.pyplot as plt\n",
    "from PIL import Image\n",
    "\n",
    "print(\"Libraries loaded!\")"
   ]
  },
  {
   "cell_type": "markdown",
   "metadata": {},
   "source": [
    "## 1. Download Sample Images"
   ]
  },
  {
   "cell_type": "code",
   "execution_count": null,
   "metadata": {},
   "outputs": [],
   "source": [
    "# Download sample images\n",
    "download_samples()\n",
    "\n",
    "# List available images\n",
    "import os\n",
    "images = list(IMAGES_DIR.glob(\"*.jpg\")) + list(IMAGES_DIR.glob(\"*.png\"))\n",
    "print(f\"\\nFound {len(images)} images:\")\n",
    "for img in images:\n",
    "    print(f\"  - {img.name}\")"
   ]
  },
  {
   "cell_type": "markdown",
   "metadata": {},
   "source": [
    "## 2. Create and Index Search Engine"
   ]
  },
  {
   "cell_type": "code",
   "execution_count": null,
   "metadata": {},
   "outputs": [],
   "source": [
    "# Create search engine\n",
    "search_engine = MultimodalSearchEngine()\n",
    "\n",
    "# Index all images\n",
    "search_engine.index_images(IMAGES_DIR)\n",
    "\n",
    "print(f\"\\nIndexed {len(search_engine.image_paths)} images successfully!\")"
   ]
  },
  {
   "cell_type": "markdown",
   "metadata": {},
   "source": [
    "## 3. Interactive Search"
   ]
  },
  {
   "cell_type": "code",
   "execution_count": null,
   "metadata": {},
   "outputs": [],
   "source": [
    "def search_and_display(query, top_k=3):\n",
    "    \"\"\"Search and display results.\"\"\"\n",
    "    results = search_engine.search(query, top_k=top_k)\n",
    "    \n",
    "    fig, axes = plt.subplots(1, min(top_k, len(results)), figsize=(15, 5))\n",
    "    if top_k == 1:\n",
    "        axes = [axes]\n",
    "    \n",
    "    for idx, (path, score) in enumerate(results):\n",
    "        img = Image.open(path)\n",
    "        axes[idx].imshow(img)\n",
    "        axes[idx].set_title(f\"{path.name}\\nScore: {score:.3f}\")\n",
    "        axes[idx].axis('off')\n",
    "    \n",
    "    plt.suptitle(f'Query: \"{query}\"', fontsize=16)\n",
    "    plt.tight_layout()\n",
    "    plt.show()\n",
    "\n",
    "# Example searches\n",
    "queries = [\n",
    "    \"a colorful bird\",\n",
    "    \"cute furry animal\",\n",
    "    \"warm sunset colors\",\n",
    "    \"urban cityscape\"\n",
    "]\n",
    "\n",
    "for query in queries:\n",
    "    search_and_display(query, top_k=3)"
   ]
  },
  {
   "cell_type": "markdown",
   "metadata": {},
   "source": [
    "## 4. Custom Query"
   ]
  },
  {
   "cell_type": "code",
   "execution_count": null,
   "metadata": {},
   "outputs": [],
   "source": [
    "# Try your own query!\n",
    "custom_query = \"something orange\"  # Change this to your query\n",
    "search_and_display(custom_query, top_k=3)"
   ]
  },
  {
   "cell_type": "markdown",
   "metadata": {},
   "source": [
    "## 5. Analyze Similarity Scores"
   ]
  },
  {
   "cell_type": "code",
   "execution_count": null,
   "metadata": {},
   "outputs": [],
   "source": [
    "# Check similarity for all images with a query\n",
    "query = \"animal\"\n",
    "results = search_engine.search(query, top_k=len(search_engine.image_paths))\n",
    "\n",
    "# Plot similarity distribution\n",
    "names = [r[0].name for r in results]\n",
    "scores = [r[1] for r in results]\n",
    "\n",
    "plt.figure(figsize=(10, 6))\n",
    "plt.bar(range(len(scores)), scores)\n",
    "plt.xticks(range(len(names)), names, rotation=45, ha='right')\n",
    "plt.ylabel('Similarity Score')\n",
    "plt.title(f'Similarity Scores for Query: \"{query}\"')\n",
    "plt.tight_layout()\n",
    "plt.show()"
   ]
  }
 ],
 "metadata": {
  "kernelspec": {
   "display_name": "Python 3",
   "language": "python",
   "name": "python3"
  },
  "language_info": {
   "name": "python",
   "version": "3.12.9"
  }
 },
 "nbformat": 4,
 "nbformat_minor": 4
}
